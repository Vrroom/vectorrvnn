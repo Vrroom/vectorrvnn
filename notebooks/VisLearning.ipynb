{
 "cells": [
  {
   "cell_type": "markdown",
   "id": "c21dd624-1add-41a5-8dbf-c10deda3de78",
   "metadata": {},
   "source": [
    "# Find hard triplets "
   ]
  },
  {
   "cell_type": "code",
   "execution_count": null,
   "id": "22b5b79d-7bda-4ea1-9710-f0f7150b39f9",
   "metadata": {},
   "outputs": [],
   "source": [
    "from vectorrvnn.interfaces import *\n",
    "from vectorrvnn.trainutils import *\n",
    "from vectorrvnn.data import *\n",
    "from vectorrvnn.utils import *\n",
    "from tqdm import tqdm\n",
    "import torch\n",
    "import matplotlib.pyplot as plt\n",
    "import numpy as np\n",
    "from functools import partial\n",
    "from copy import deepcopy\n",
    "from sklearn.manifold import TSNE\n",
    "\n",
    "# Load our model\n",
    "opts = Options().parse(testing=[\n",
    "    '--checkpoints_dir', '../results',\n",
    "    '--dataroot', '../data/All',\n",
    "    '--embedding_size', '512',\n",
    "    '--hidden_size', '1024',\n",
    "    '--encoder_layers', '2',\n",
    "    '--heads', '2',\n",
    "    '--load_ckpt', 'obb-6/best_0-756-12-23-2021-18-13-36.pth',\n",
    "    '--modelcls', 'OBBNet',\n",
    "    '--name', 'test',\n",
    "    '--phase', 'test',\n",
    "])"
   ]
  },
  {
   "cell_type": "code",
   "execution_count": null,
   "id": "d905c2d6-ec13-4f3e-a574-0e21fc318023",
   "metadata": {},
   "outputs": [],
   "source": [
    "model = buildModel(opts)\n",
    "data = buildData(opts)"
   ]
  },
  {
   "cell_type": "markdown",
   "id": "d276b622-3dbb-463e-9485-2ff437f57222",
   "metadata": {},
   "source": [
    "## What are the features?"
   ]
  },
  {
   "cell_type": "code",
   "execution_count": null,
   "id": "054a6d6d-1875-4e35-a116-b2af57b0db45",
   "metadata": {},
   "outputs": [],
   "source": [
    "def plotVisImage (im) : \n",
    "    nodeType = ['ref', 'plus', 'minus']\n",
    "    print(nodeType)\n",
    "    ims = []\n",
    "    for ntype, im_ in zip(nodeType, im) :\n",
    "        numpyIm = im_.detach().cpu().numpy()\n",
    "        numpyIm = np.transpose(numpyIm, (1, 2, 0))\n",
    "        ims.append(numpyIm)\n",
    "    \n",
    "    fig, ax = plt.subplots(1, 1, dpi=150)\n",
    "    ax.imshow(np.concatenate(ims, 1))\n",
    "    plt.show()\n",
    "        \n",
    "trainData, valData, trainDataLoader, valDataLoader = data\n",
    "\n",
    "for trainBatch in trainDataLoader : \n",
    "    break\n",
    "    \n",
    "for valBatch in valDataLoader :\n",
    "    break\n",
    "    \n",
    "tripletviscallback = TripletVisCallback()\n",
    "\n",
    "trainTripletImage = tripletviscallback.visualized_image(trainBatch, dict(mask=None), False)\n",
    "valTripletImage   = tripletviscallback.visualized_image(valBatch  , dict(mask=None), True)\n",
    "\n",
    "print(\"Plotting train triplet\")\n",
    "plotVisImage(trainTripletImage)\n",
    "print(\"Plotting val triplet\")\n",
    "plotVisImage(valTripletImage)"
   ]
  },
  {
   "cell_type": "markdown",
   "id": "85ec11ac-d661-42ef-81aa-9d8550d34d0a",
   "metadata": {},
   "source": [
    "## What are hard examples among validation triplets?"
   ]
  },
  {
   "cell_type": "code",
   "execution_count": null,
   "id": "a9abddfa-5dc0-4e38-9da4-5b74cf3159b5",
   "metadata": {},
   "outputs": [],
   "source": [
    "interface = TripletInterface(opts, model, trainData, valData)\n",
    "\n",
    "rets = [] \n",
    "model.eval()\n",
    "valDataLoader.reset()\n",
    "with torch.no_grad() :\n",
    "    for batch in tqdm(valDataLoader) :\n",
    "        ret = model(**batch)\n",
    "        mask = ret['dminus'] > ret['dplus']\n",
    "        nHard = int(mask.sum())\n",
    "        if nHard > 0 : \n",
    "            for i in range(nHard) :\n",
    "                hardTriplet = tripletviscallback.visualized_image(\n",
    "                    batch, \n",
    "                    dict(mask=mask), \n",
    "                    False,\n",
    "                    i=i\n",
    "                )\n",
    "                plotVisImage(hardTriplet)\n",
    "        rets.append(ret)\n",
    "        \n",
    "print('loss = ', avg(map(lambda r : r['loss'], rets)))\n",
    "print('% hard triplets = ', avg(map(lambda r : r['hardpct'], rets)))"
   ]
  },
  {
   "cell_type": "code",
   "execution_count": null,
   "id": "6efdc1ca-a5d9-488b-b00e-69b1872fb7ce",
   "metadata": {},
   "outputs": [],
   "source": []
  }
 ],
 "metadata": {
  "kernelspec": {
   "display_name": "Python 3",
   "language": "python",
   "name": "python3"
  },
  "language_info": {
   "codemirror_mode": {
    "name": "ipython",
    "version": 3
   },
   "file_extension": ".py",
   "mimetype": "text/x-python",
   "name": "python",
   "nbconvert_exporter": "python",
   "pygments_lexer": "ipython3",
   "version": "3.6.9"
  }
 },
 "nbformat": 4,
 "nbformat_minor": 5
}
