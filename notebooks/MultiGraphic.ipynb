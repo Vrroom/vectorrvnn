{
 "cells": [
  {
   "cell_type": "markdown",
   "id": "a3b82780-762b-46cf-a084-3a624a5efd25",
   "metadata": {},
   "source": [
    "# Multi-Graphic Augmentation\n",
    "\n",
    "In this experiment, I compare different methods on how they perform on graphics formed by combining other graphics. \n",
    "\n",
    "## Load Data and Model"
   ]
  },
  {
   "cell_type": "code",
   "execution_count": null,
   "id": "4f143bbe-d594-4ba9-8105-f3963dae63b3",
   "metadata": {},
   "outputs": [],
   "source": [
    "from vectorrvnn.interfaces import *\n",
    "from vectorrvnn.trainutils import *\n",
    "from vectorrvnn.data import *\n",
    "from vectorrvnn.utils import *\n",
    "from vectorrvnn.geometry import *\n",
    "from vectorrvnn.baselines import *\n",
    "from tqdm import tqdm\n",
    "import torch\n",
    "import matplotlib.pyplot as plt\n",
    "import numpy as np\n",
    "from functools import partial\n",
    "from copy import deepcopy\n",
    "from sklearn.manifold import TSNE\n",
    "\n",
    "opts = Options().parse(testing=[\n",
    "    '--checkpoints_dir', '../results',\n",
    "    '--dataroot', '../data/All',\n",
    "    '--embedding_size', '32', \n",
    "    '--load_ckpt', 'onebranch_oneof/best_0-796-07-13-2021-10-20-04.pth',                          \n",
    "    '--modelcls', 'OneBranch',\n",
    "    '--name', 'best_0-796-07-13-2021-10-20-04.pth',\n",
    "    '--samplercls', 'DiscriminativeSampler',\n",
    "    '--phase', 'test'\n",
    "])\n"
   ]
  },
  {
   "cell_type": "code",
   "execution_count": null,
   "id": "0c2b4fad-0848-4bab-b6c6-569cf85a5236",
   "metadata": {},
   "outputs": [],
   "source": [
    "model = buildModel(opts)\n",
    "data = buildData(opts)\n",
    "trainData, valData, trainDataLoader, valDataLoader = data\n",
    "aug = GraphicCompose()\n",
    "print(model.training)"
   ]
  },
  {
   "cell_type": "markdown",
   "id": "637b8779-a6b6-4957-ad36-07f9866b5b47",
   "metadata": {
    "tags": []
   },
   "source": [
    "## Some examples"
   ]
  },
  {
   "cell_type": "code",
   "execution_count": null,
   "id": "29312dbd-30ff-4d8c-ab89-05373a718f88",
   "metadata": {
    "tags": []
   },
   "outputs": [],
   "source": [
    "# Show some examples:\n",
    "with torch.no_grad() :\n",
    "    for i in range(10) : \n",
    "        print(i)\n",
    "        graphic = aug(trng.choice(valData), valData)\n",
    "        plt.imshow(rasterize(graphic.doc, 200, 200))\n",
    "        plt.show()\n",
    "        t = model.greedyTree(graphic)\n",
    "        t.doc = graphic.doc\n",
    "        treeImageFromGraph(t)\n",
    "        plt.show()"
   ]
  },
  {
   "cell_type": "markdown",
   "id": "1c029a2d-aaa0-420f-9973-275164b98932",
   "metadata": {},
   "source": [
    "## Comparing different eval metrics on all methods"
   ]
  },
  {
   "cell_type": "code",
   "execution_count": null,
   "id": "2e911e79-dc4e-4c06-bd0c-00c920b91682",
   "metadata": {},
   "outputs": [],
   "source": [
    "with torch.no_grad() :\n",
    "    graphics = [aug(trng.choice(valData), valData) for _ in range(100)]\n",
    "    ourTree = [model.greedyTree(_) for _ in graphics]\n",
    "    sugT = [suggero(g.doc) for g in graphics]\n",
    "    autoT = [autogroup(g.doc) for g in graphics]"
   ]
  },
  {
   "cell_type": "code",
   "execution_count": null,
   "id": "f4477e01-5cc7-4a77-ac14-ca586060a645",
   "metadata": {},
   "outputs": [],
   "source": [
    "print('Ours      (FMI-1) = ', avg([fmi(g, t, 1) for g, t in zip(graphics, ourTree)]))\n",
    "print('Suggero   (FMI-1) = ', avg([fmi(g, t, 1) for g, t in zip(graphics, sugT)]))\n",
    "print('Autogroup (FMI-1) = ', avg([fmi(g, t, 1) for g, t in zip(graphics, autoT)]))\n",
    "print(\"_________________________________________________________\")\n",
    "print('Ours      (FMI-2) = ', avg([fmi(g, t, 2) for g, t in zip(graphics, ourTree)]))\n",
    "print('Suggero   (FMI-2) = ', avg([fmi(g, t, 2) for g, t in zip(graphics, sugT)]))\n",
    "print('Autogroup (FMI-2) = ', avg([fmi(g, t, 2) for g, t in zip(graphics, autoT)]))\n",
    "print(\"_________________________________________________________\")\n",
    "print('Ours      (FMI-3) = ', avg([fmi(g, t, 3) for g, t in zip(graphics, ourTree)]))\n",
    "print('Suggero   (FMI-3) = ', avg([fmi(g, t, 3) for g, t in zip(graphics, sugT)]))\n",
    "print('Autogroup (FMI-3) = ', avg([fmi(g, t, 3) for g, t in zip(graphics, autoT)]))\n",
    "print(\"_________________________________________________________\")\n",
    "print('Ours      (cted) = ', avg([cted(g, t) / (g.number_of_nodes() + t.number_of_nodes()) for g, t in zip(graphics, ourTree)]))\n",
    "print('Suggero   (cted) = ', avg([cted(g, t) / (g.number_of_nodes() + t.number_of_nodes()) for g, t in zip(graphics, sugT)]))\n",
    "print('Autogroup (cted) = ', avg([cted(g, t) / (g.number_of_nodes() + t.number_of_nodes()) for g, t in zip(graphics, autoT)]))"
   ]
  }
 ],
 "metadata": {
  "kernelspec": {
   "display_name": "Python 3",
   "language": "python",
   "name": "python3"
  },
  "language_info": {
   "codemirror_mode": {
    "name": "ipython",
    "version": 3
   },
   "file_extension": ".py",
   "mimetype": "text/x-python",
   "name": "python",
   "nbconvert_exporter": "python",
   "pygments_lexer": "ipython3",
   "version": "3.6.9"
  }
 },
 "nbformat": 4,
 "nbformat_minor": 5
}
