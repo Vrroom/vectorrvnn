{
 "cells": [
  {
   "cell_type": "code",
   "execution_count": null,
   "id": "7263c839-9588-41ef-9537-b6cfba41d11b",
   "metadata": {},
   "outputs": [],
   "source": [
    "from vectorrvnn.data import *\n",
    "from vectorrvnn.utils import *\n",
    "from vectorrvnn.baselines import *\n",
    "from more_itertools import unzip\n",
    "import svgpathtools as svg\n",
    "from tqdm import tqdm\n",
    "\n",
    "data = TripletDataset('../data/MikeAnnotations')"
   ]
  },
  {
   "cell_type": "code",
   "execution_count": null,
   "id": "a14f1418-cfd8-4478-b6a9-538cf4a8325a",
   "metadata": {},
   "outputs": [],
   "source": [
    "def getAnnotationsByName (name) : \n",
    "    ann = []\n",
    "    for i, d in enumerate(data) :\n",
    "        try : \n",
    "            id, _name_ = data.metadata[i].split(', ')\n",
    "            if _name_ == name : \n",
    "                ann.append((id, d))\n",
    "        except Exception :\n",
    "            pass\n",
    "    return ann"
   ]
  },
  {
   "cell_type": "code",
   "execution_count": null,
   "id": "c9abfb65-3861-45f9-b6ce-31f8f07f21a9",
   "metadata": {},
   "outputs": [],
   "source": [
    "mike = getAnnotationsByName('mike')\n",
    "sumit = getAnnotationsByName('sumit')\n",
    "\n",
    "commonIds = set(unzip(mike)[0]).intersection(set(unzip(sumit)[0]))\n",
    "\n",
    "mike = dict([(id, d) for id, d in mike if id in commonIds])\n",
    "sumit = dict([(id, d) for id, d in sumit if id in commonIds])\n",
    "\n",
    "# will be the same as sumit's\n",
    "svgFiles = list(map(lambda x : mike[x].svgFile, commonIds))\n",
    "docs = dict(zip(commonIds, map(svg.Document, svgFiles)))\n",
    "\n",
    "auto = dict([(id, autogroup(docs[id])) for id in tqdm(commonIds)])\n",
    "sug = dict([(id, suggero(docs[id])) for id in tqdm(commonIds)])\n"
   ]
  },
  {
   "cell_type": "code",
   "execution_count": null,
   "id": "e8168baf-6081-4699-9569-f07cd091f740",
   "metadata": {},
   "outputs": [],
   "source": [
    "def printFMI (d1, d2) : \n",
    "    print(\"FMI-1:\", avg(map(lambda id : fmi(d1[id], d2[id], 1), commonIds)))\n",
    "    print(\"FMI-2:\", avg(map(lambda id : fmi(d1[id], d2[id], 2), commonIds)))    \n",
    "    print(\"FMI-3:\", avg(map(lambda id : fmi(d1[id], d2[id], 3), commonIds)))   \n",
    "\n",
    "print(\"Mike v Sumit\")\n",
    "printFMI(mike, sumit)\n",
    "print(\"Mike v Autogroup\")\n",
    "printFMI(mike, auto)\n",
    "print(\"Mike v Suggero\")\n",
    "printFMI(mike, sug)\n",
    "print(\"Sumit v Autogroup\")\n",
    "printFMI(sumit, auto)\n",
    "print(\"Sumit v Suggero\")\n",
    "printFMI(sumit, sug)\n",
    "print(\"Autogroup v Suggero\")\n",
    "printFMI(sug, auto)\n"
   ]
  },
  {
   "cell_type": "code",
   "execution_count": null,
   "id": "6b41b2e5-8ee5-4b87-8933-63e5cdac45d5",
   "metadata": {},
   "outputs": [],
   "source": [
    "def avgNumberOfNodesAtLevel (data, level) :\n",
    "    avgNodes = []\n",
    "    for id, d in data.items() : \n",
    "        d_ = forest2tree(d)\n",
    "        setNodeDepths(d_)\n",
    "        avgNodes.append(len([n for n in d_.nodes if d_.nodes[n]['depth'] == level]))\n",
    "    return avg(avgNodes)\n",
    "\n",
    "print(avgNumberOfNodesAtLevel(mike, 3))\n",
    "print(avgNumberOfNodesAtLevel(sumit, 3))\n",
    "print(avgNumberOfNodesAtLevel(auto, 3))\n",
    "print(avgNumberOfNodesAtLevel(sug, 3))\n",
    "        "
   ]
  },
  {
   "cell_type": "code",
   "execution_count": null,
   "id": "e4d4b504-212a-4ae2-87a5-c8e7ac93432a",
   "metadata": {},
   "outputs": [],
   "source": []
  }
 ],
 "metadata": {
  "kernelspec": {
   "display_name": "Python 3",
   "language": "python",
   "name": "python3"
  },
  "language_info": {
   "codemirror_mode": {
    "name": "ipython",
    "version": 3
   },
   "file_extension": ".py",
   "mimetype": "text/x-python",
   "name": "python",
   "nbconvert_exporter": "python",
   "pygments_lexer": "ipython3",
   "version": "3.6.9"
  }
 },
 "nbformat": 4,
 "nbformat_minor": 5
}
