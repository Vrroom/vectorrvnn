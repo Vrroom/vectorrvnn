{
 "cells": [
  {
   "cell_type": "markdown",
   "id": "34131a6c-bd38-4d02-91f8-f789edefe971",
   "metadata": {},
   "source": [
    "# What does T.E.D do?\n",
    "\n",
    "I'll do a deep dive into what unordered tree edit distance does. \n",
    "\n",
    "1. Compare Mike and my annotations.\n",
    "2. Compare different algorithms with the ground truth. \n",
    "\n",
    "This comparison will be based on visualizing the optimal mapping in descending order of the costs incurred.\n",
    "\n",
    "Based on this, I'll determine whether the unordered tree edit distance is sufficient or whether we need to take a look at other variations such as:\n",
    "\n",
    "1. Constrained Tree Edit Distance.\n",
    "2. Structure-respecting Tree Edit Distance."
   ]
  },
  {
   "cell_type": "code",
   "execution_count": null,
   "id": "3b5e00f7-7e0e-4ba7-9c7f-c3d6e5b26cef",
   "metadata": {},
   "outputs": [],
   "source": [
    "######################################################## \n",
    "## LOAD DATA and MODEL\n",
    "######################################################## \n",
    "import random\n",
    "from vectorrvnn.data import *\n",
    "from vectorrvnn.utils import *\n",
    "from vectorrvnn.baselines import *\n",
    "from vectorrvnn.trainutils import *\n",
    "from vectorrvnn.interfaces import *\n",
    "from more_itertools import unzip\n",
    "import svgpathtools as svg\n",
    "from tqdm import tqdm\n",
    "import matplotlib.pyplot as plt\n",
    "from itertools import product\n",
    "\n",
    "data = TripletDataset('../data/MikeAnnotations')\n",
    "\n",
    "def getAnnotationsByName (name) : \n",
    "    ann = []\n",
    "    for i, d in enumerate(data) :\n",
    "        try : \n",
    "            id, _name_ = data.metadata[i].split(', ')\n",
    "            if _name_ == name : \n",
    "                ann.append((id, d))\n",
    "        except Exception :\n",
    "            pass\n",
    "    return ann\n",
    "\n",
    "mike = getAnnotationsByName('mike')\n",
    "sumit = getAnnotationsByName('sumit')\n",
    "\n",
    "commonIds = set(unzip(mike)[0]).intersection(set(unzip(sumit)[0]))\n",
    "\n",
    "mike = dict([(id, d) for id, d in mike if id in commonIds])\n",
    "sumit = dict([(id, d) for id, d in sumit if id in commonIds])\n",
    "svgFiles = list(map(lambda x : mike[x].svgFile, commonIds))\n",
    "\n",
    "opts = Options().parse(testing=[\n",
    "    '--batch_size', '32',\n",
    "    '--checkpoints_dir', '../results',\n",
    "    '--dataroot', '../data/All',\n",
    "    '--embedding_size', '32', \n",
    "    '--load_ckpt', 'pattern_oneof_rerun/best_0-785-07-03-2021-20-34-16.pth',                          \n",
    "    '--modelcls', 'PatternGrouping',\n",
    "    '--name', 'pattern_oneof',\n",
    "    '--structure_embedding_size', '8',\n",
    "    '--samplercls', 'DiscriminativeSampler',\n",
    "    '--device', 'cuda:0',\n",
    "    '--phase', 'test',\n",
    "])\n",
    "\n",
    "model = buildModel(opts)\n",
    "triplet = dict([(id, model.greedyTree(forest2tree(d))) for id, d in mike.items()])\n",
    "sug = dict([(id, suggero(d.doc)) for id, d in mike.items()])\n",
    "for id in triplet.keys() : \n",
    "    triplet[id].doc = mike[id].doc\n",
    "    sug[id].doc = mike[id].doc"
   ]
  },
  {
   "cell_type": "code",
   "execution_count": null,
   "id": "b3f7d9fe-605e-4364-ab35-80890a2a2c68",
   "metadata": {},
   "outputs": [],
   "source": [
    "######################################################## \n",
    "## VISUALIZE A TREE FOR SANITY\n",
    "######################################################## \n",
    "randomId = random.choice(list(commonIds))\n",
    "print(\"MIKE's TREE\")\n",
    "treeImageFromGraph(mike[randomId])\n",
    "plt.show()\n",
    "print(\"SUMIT's TREE\")\n",
    "treeImageFromGraph(sumit[randomId])\n",
    "plt.show()\n",
    "print(\"TRIPLET's TREE\")\n",
    "treeImageFromGraph(triplet[randomId])\n",
    "plt.show()\n",
    "print(\"SUGGERO's TREE\")\n",
    "treeImageFromGraph(sug[randomId])\n",
    "plt.show()"
   ]
  },
  {
   "cell_type": "code",
   "execution_count": null,
   "id": "c79d9a79-4c84-4486-a077-5d973b36a984",
   "metadata": {},
   "outputs": [],
   "source": [
    "a, b = sug[randomId], sumit[randomId]\n",
    "opt, matchMatrix = cted(a, b, matching=True)\n",
    "print(\"T.E.D. = \", opt)\n",
    "fig, ax = treeMatchVis(a, b, matchMatrix)\n",
    "plt.show()"
   ]
  },
  {
   "cell_type": "code",
   "execution_count": null,
   "id": "0f6f8754-94b6-42d5-896b-f703a960f00a",
   "metadata": {},
   "outputs": [],
   "source": [
    "for i in com"
   ]
  }
 ],
 "metadata": {
  "kernelspec": {
   "display_name": "Python 3",
   "language": "python",
   "name": "python3"
  },
  "language_info": {
   "codemirror_mode": {
    "name": "ipython",
    "version": 3
   },
   "file_extension": ".py",
   "mimetype": "text/x-python",
   "name": "python",
   "nbconvert_exporter": "python",
   "pygments_lexer": "ipython3",
   "version": "3.6.9"
  }
 },
 "nbformat": 4,
 "nbformat_minor": 5
}
