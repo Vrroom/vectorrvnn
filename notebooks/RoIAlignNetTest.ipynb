{
 "cells": [
  {
   "cell_type": "code",
   "execution_count": null,
   "id": "9c60d405-2be1-43f7-92f6-d5334d6e576d",
   "metadata": {},
   "outputs": [],
   "source": [
    "from vectorrvnn.utils import *\n",
    "from vectorrvnn.trainutils import *\n",
    "from vectorrvnn.network import *\n",
    "import matplotlib.pyplot as plt\n",
    "import torch\n",
    "from torch import nn\n",
    "from torchvision.ops import *\n",
    "from torchvision.models import *\n",
    "import svgpathtools as svg\n",
    "\n",
    "opts = Options().parse(testing=[\n",
    "    '--checkpoints_dir', '../results',\n",
    "    '--dataroot', '../data/All',\n",
    "    '--name', 'test',\n",
    "    '--samplercls', 'DiscriminativeSampler',\n",
    "    '--phase', 'test',\n",
    "    '--backbone', 'resnet18',\n",
    "])\n",
    "roinet = RoIAlignNet(opts)"
   ]
  },
  {
   "cell_type": "code",
   "execution_count": null,
   "id": "4d134ed7-d07a-43c5-9110-7e6a0268a7e8",
   "metadata": {},
   "outputs": [],
   "source": [
    "def visGradient (model, bbox, input) :\n",
    "    model = model.cuda()\n",
    "    input.requires_grad = True\n",
    "    output = model(input, bbox.cuda())\n",
    "    output.sum().backward()\n",
    "    grad = np.sqrt((input.grad * input.grad).squeeze().sum(0).detach().cpu().numpy())\n",
    "    pctEffected = (grad > 0).sum() / (input.nelement() / 3)\n",
    "    print(\"% effected elements: \", pctEffected)\n",
    "    plt.imshow(np.log(grad), cmap='bwr')\n",
    "    plt.colorbar()\n",
    "    plt.show()"
   ]
  },
  {
   "cell_type": "code",
   "execution_count": null,
   "id": "82aad074-3e17-4dd8-bbbb-0c6691b02c55",
   "metadata": {},
   "outputs": [],
   "source": [
    "boxes = [\n",
    "    [0., 0., 1., 1.],\n",
    "    [0.5, 0.5, 0.6, 0.6],\n",
    "    [0.2, 0.2, 0.3, 0.3],\n",
    "    [0.1, 0.1, 0.101, 0.101],\n",
    "    [0.0, 0.0, 0.001, 0.001],\n",
    "    [0.5, 0.5, 0.501, 0.501],\n",
    "    [0.6, 0.6, 0.7, 0.602],\n",
    "    [0.1, 0.1, 0.4, 0.4],\n",
    "    [0.2, 0.2, 0.8, 0.8],\n",
    "    [0.5, 0.5, 0.9, 0.9],\n",
    "]\n",
    "\n",
    "doc = svg.Document('./Emojis/Test/1F682.svg')\n",
    "plt.imshow(rasterize(doc, 256, 256))\n",
    "plt.show()\n",
    "\n",
    "for box in boxes : \n",
    "    print('bbox:', box)\n",
    "    bbox = torch.tensor([box])\n",
    "    input = getTransform(opts)(rasterize(doc, 256, 256)).unsqueeze(0).cuda()\n",
    "    visGradient(roinet, bbox, input)"
   ]
  },
  {
   "cell_type": "code",
   "execution_count": null,
   "id": "3ea48ceb-2f08-4df6-a566-6edcabcb88d7",
   "metadata": {},
   "outputs": [],
   "source": []
  }
 ],
 "metadata": {
  "kernelspec": {
   "display_name": "Python 3",
   "language": "python",
   "name": "python3"
  },
  "language_info": {
   "codemirror_mode": {
    "name": "ipython",
    "version": 3
   },
   "file_extension": ".py",
   "mimetype": "text/x-python",
   "name": "python",
   "nbconvert_exporter": "python",
   "pygments_lexer": "ipython3",
   "version": "3.6.9"
  }
 },
 "nbformat": 4,
 "nbformat_minor": 5
}
