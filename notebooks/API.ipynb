{
 "cells": [
  {
   "cell_type": "code",
   "execution_count": null,
   "id": "3879fb5a-e670-4801-824e-ec1f04f99bda",
   "metadata": {},
   "outputs": [],
   "source": [
    "import requests\n",
    "from vectorrvnn.data import *\n",
    "from vectorrvnn.utils import *\n",
    "from vectorrvnn.baselines import *\n",
    "from vectorrvnn.trainutils import *\n",
    "from vectorrvnn.interfaces import *\n",
    "\n",
    "opts = Options().parse(testing=[\n",
    "    '--batch_size', '32',\n",
    "    '--checkpoints_dir', '../results',\n",
    "    '--dataroot', '../data/All',\n",
    "    '--embedding_size', '32', \n",
    "    '--load_ckpt', 'pattern_oneof_rerun/best_0-785-07-03-2021-20-34-16.pth',                          \n",
    "    '--modelcls', 'PatternGrouping',\n",
    "    '--name', 'pattern_oneof',\n",
    "    '--structure_embedding_size', '8',\n",
    "    '--samplercls', 'DiscriminativeSampler',\n",
    "    '--device', 'cuda:1',\n",
    "    '--phase', 'test',\n",
    "])\n",
    "\n",
    "model = buildModel(opts)"
   ]
  },
  {
   "cell_type": "code",
   "execution_count": null,
   "id": "7c386e33-04a8-49c4-978d-deb1d0473bb5",
   "metadata": {},
   "outputs": [],
   "source": [
    "URL = \"https://upload.wikimedia.org/wikipedia/commons/6/64/Tux_Classic_flat_look_v1.1.svg\"\n",
    "headers = {'User-Agent': 'Mozilla/5.0'}\n",
    "svgText = requests.get(URL, headers=headers).text\n",
    "with open('/tmp/tmp.svg', 'w+') as fd : \n",
    "    fd.write(svgText)\n",
    "doc = svg.Document('/tmp/tmp.svg')\n",
    "doc\n",
    "# plt.imshow(rasterize(doc))\n",
    "# nPaths = len(doc.paths())\n",
    "# print(nPaths)\n",
    "# if nPaths < 50: \n",
    "#     graph = nx.DiGraph()\n",
    "#     graph.add_nodes_from(range(nPaths))\n",
    "#     T = SVGData('/tmp/tmp.svg', tree=graph)\n",
    "#     O = model.greedyTree(T)\n",
    "#     O.doc = doc\n",
    "#     treeImageFromGraph(O)\n",
    "#     plt.show()"
   ]
  },
  {
   "cell_type": "code",
   "execution_count": null,
   "id": "089b9d5b-34c5-466a-b4bd-7f1f5e8d6671",
   "metadata": {},
   "outputs": [],
   "source": []
  }
 ],
 "metadata": {
  "kernelspec": {
   "display_name": "Python 3",
   "language": "python",
   "name": "python3"
  },
  "language_info": {
   "codemirror_mode": {
    "name": "ipython",
    "version": 3
   },
   "file_extension": ".py",
   "mimetype": "text/x-python",
   "name": "python",
   "nbconvert_exporter": "python",
   "pygments_lexer": "ipython3",
   "version": "3.6.9"
  }
 },
 "nbformat": 4,
 "nbformat_minor": 5
}
