{
 "cells": [
  {
   "cell_type": "code",
   "execution_count": null,
   "id": "7c386e33-04a8-49c4-978d-deb1d0473bb5",
   "metadata": {},
   "outputs": [],
   "source": [
    "URL = \"https://upload.wikimedia.org/wikipedia/commons/6/64/Tux_Classic_flat_look_v1.1.svg\"\n",
    "headers = {'User-Agent': 'Mozilla/5.0'}\n",
    "svgText = requests.get(URL, headers=headers).text\n",
    "with open('/tmp/tmp.svg', 'w+') as fd : \n",
    "    fd.write(svgText)\n",
    "doc = svg.Document('/tmp/tmp.svg')\n",
    "plt.imshow(rasterize(doc, 200, 200))\n",
    "nPaths = len(doc.paths())\n",
    "print(nPaths)\n",
    "with torch.no_grad() : \n",
    "    graph = nx.DiGraph()\n",
    "    graph.add_nodes_from(range(nPaths))\n",
    "    T = SVGData('/tmp/tmp.svg', tree=graph)\n",
    "    O = SVGData('/tmp/tmp.svg', tree=model.greedyTree(T))\n",
    "    plt.imshow(treeVisAsDirectory(O))\n",
    "    plt.show()"
   ]
  }
 ],
 "metadata": {
  "kernelspec": {
   "display_name": "Python 3",
   "language": "python",
   "name": "python3"
  },
  "language_info": {
   "codemirror_mode": {
    "name": "ipython",
    "version": 3
   },
   "file_extension": ".py",
   "mimetype": "text/x-python",
   "name": "python",
   "nbconvert_exporter": "python",
   "pygments_lexer": "ipython3",
   "version": "3.6.9"
  }
 },
 "nbformat": 4,
 "nbformat_minor": 5
}
