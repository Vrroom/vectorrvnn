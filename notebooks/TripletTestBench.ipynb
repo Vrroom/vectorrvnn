{
 "cells": [
  {
   "cell_type": "markdown",
   "metadata": {},
   "source": [
    "# Test Bench for our Perceptual Embedding Network\n",
    "\n",
    "We'll explore the following things in this notebook:\n",
    "\n",
    "1. What do the inferred hierarchies look like for different methods?\n",
    "2. What does the embedding space look like?\n",
    "3. What are the evaluation scores for the triplet and the baseline?\n",
    "4. What are the true data statistics and how much do they differ from the results?"
   ]
  },
  {
   "cell_type": "code",
   "execution_count": null,
   "metadata": {},
   "outputs": [],
   "source": [
    "from TripletSVGData import *\n",
    "import json\n",
    "from treeOps import *\n",
    "import matplotlib.pyplot as plt\n",
    "from osTools import *\n",
    "\n",
    "with open('commonConfig.json') as fd : \n",
    "    commonConfig = json.load(fd)\n",
    "   \n",
    "# Load one data point.\n",
    "dataDir = commonConfig['val_directory']\n",
    "dataPts = map(listdir, listdir(dataDir))\n",
    "removeTxt = lambda x : filter(lambda y : not y.endswith('txt'), x)\n",
    "dataPts = list(map(lambda x : list(removeTxt(reversed(x))), dataPts))\n",
    "pt = dataPts[10]\n",
    "print(pt)\n",
    "# load data and check if it is correct\n",
    "gtTree = TripletSVGData(*pt)\n",
    "# checkImg = gtTree.alphaComposite(tuple(leaves(gtTree)))\n",
    "# plt.imshow(checkImg)\n",
    "# plt.show()"
   ]
  },
  {
   "cell_type": "markdown",
   "metadata": {},
   "source": [
    "## Inferred Hierarchies for different methods\n",
    "\n",
    "1. Greedy Tree\n",
    "2. Greedy Binary Tree\n",
    "3. KD-Tree based inference strategy\n",
    "4. Suggero\n",
    "\n",
    "### Greedy Tree"
   ]
  },
  {
   "cell_type": "code",
   "execution_count": null,
   "metadata": {},
   "outputs": [],
   "source": [
    "from Triplet import * \n",
    "\n",
    "# # Load model and visualize inferred hierarchy.\n",
    "# model = getModel('triplet_bam_resnet_suggero')\n",
    "# tree = model.greedyTree(gtTree)\n",
    "# figure, ax = fillSVG(gtTree, tree)\n",
    "# figure.show()"
   ]
  },
  {
   "cell_type": "markdown",
   "metadata": {},
   "source": [
    "### Greedy Binary Tree"
   ]
  },
  {
   "cell_type": "code",
   "execution_count": null,
   "metadata": {},
   "outputs": [],
   "source": [
    "# tree = model.greedyTree(gtTree, binary=True)\n",
    "# figure, ax = fillSVG(gtTree, tree)\n",
    "# figure.show()"
   ]
  },
  {
   "cell_type": "markdown",
   "metadata": {},
   "source": [
    "### Suggero"
   ]
  },
  {
   "cell_type": "code",
   "execution_count": null,
   "metadata": {},
   "outputs": [],
   "source": [
    "from suggero import suggero\n",
    "\n",
    "# suggeroTree = suggero(gtTree.svgFile)\n",
    "# figure, ax = fillSVG(gtTree, suggeroTree)\n",
    "# size = figure.get_size_inches()*figure.dpi\n",
    "# figure.show()"
   ]
  },
  {
   "cell_type": "markdown",
   "metadata": {},
   "source": [
    "## Embedding Space Visualization"
   ]
  },
  {
   "cell_type": "code",
   "execution_count": null,
   "metadata": {},
   "outputs": [],
   "source": [
    "from sklearn.manifold import TSNE\n",
    "from vis import *\n",
    "import torch\n",
    "\n",
    "# pathSets = [tuple(tree.nodes[n]['pathSet']) for n in tree.nodes]\n",
    "# allEmbeddings = [getEmbedding(gtTree, ps, model.embedding) for ps in pathSets]\n",
    "# ims = [gtTree.alphaComposite(ps) for ps in pathSets]\n",
    "# m = TSNE(n_components=2, perplexity=5)\n",
    "# allEmbeddings = [em.detach().cpu().numpy() for em in allEmbeddings]\n",
    "# allEmbeddings = np.concatenate(allEmbeddings, axis=0)\n",
    "# x = m.fit_transform(allEmbeddings)\n",
    "# canvas = putOnCanvas(x, ims)\n",
    "# plt.imshow(canvas)\n",
    "# plt.savefig('o.png')\n",
    "# # plt.show()"
   ]
  },
  {
   "cell_type": "code",
   "execution_count": null,
   "metadata": {},
   "outputs": [],
   "source": [
    "import pydiffvg\n",
    "pydiffvg.set_device(torch.device('cpu'))\n",
    "import svgpathtools as svg\n",
    "import random\n",
    "import time\n",
    "\n",
    "def render(canvas_width, canvas_height, shapes, shape_groups):\n",
    "    _render = pydiffvg.RenderFunction.apply\n",
    "    scene_args = pydiffvg.RenderFunction.serialize_scene(\\\n",
    "        canvas_width, canvas_height, shapes, shape_groups)\n",
    "    img = _render(canvas_width, # width\n",
    "                 canvas_height, # height\n",
    "                 2,   # num_samples_x\n",
    "                 2,   # num_samples_y\n",
    "                 0,   # seed\n",
    "                 None,\n",
    "                 *scene_args)\n",
    "    return img\n",
    "\n",
    "vgs = listdir('/net/voxel07/misc/extra/data/sumitc/datasetv1')\n",
    "times = []\n",
    "for g in vgs[:40] : \n",
    "    try : \n",
    "        g = osp.join(g, osp.split(g)[1] + '.svg')\n",
    "        t = TripletSVGData(g, '/net/voxel07/misc/me/sumitc/vectorrvnn/ManuallyAnnotatedDataset_v2/Train/0/0.pkl')\n",
    "        thing = pydiffvg.parse_scene(t.doc.tree.getroot())\n",
    "        st = time.time()\n",
    "        ref = render(*thing)\n",
    "        end = time.time()\n",
    "        times.append(end - st)\n",
    "        plt.imshow(ref)\n",
    "        plt.show()\n",
    "    except Exception as e :\n",
    "        pass\n"
   ]
  },
  {
   "cell_type": "code",
   "execution_count": null,
   "metadata": {},
   "outputs": [],
   "source": [
    "np.median(times)\n",
    "np.mean(times)"
   ]
  },
  {
   "cell_type": "code",
   "execution_count": null,
   "metadata": {},
   "outputs": [],
   "source": []
  }
 ],
 "metadata": {
  "kernelspec": {
   "display_name": "Python 3",
   "language": "python",
   "name": "python3"
  },
  "language_info": {
   "codemirror_mode": {
    "name": "ipython",
    "version": 3
   },
   "file_extension": ".py",
   "mimetype": "text/x-python",
   "name": "python",
   "nbconvert_exporter": "python",
   "pygments_lexer": "ipython3",
   "version": "3.6.9"
  }
 },
 "nbformat": 4,
 "nbformat_minor": 4
}
