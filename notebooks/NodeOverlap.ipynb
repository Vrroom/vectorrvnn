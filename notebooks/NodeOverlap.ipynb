{
 "cells": [
  {
   "cell_type": "markdown",
   "id": "54f263e2-a457-485f-a239-0d7701b16203",
   "metadata": {},
   "source": [
    "# Node Overlap\n",
    "\n",
    "I gathered partially organized publicly available graphics. Around 60% of these graphics were created or opened on inkscape. It is likely that the groups within these graphics were created to make editing easier."
   ]
  },
  {
   "cell_type": "code",
   "execution_count": null,
   "id": "e711060d-23d8-4b09-adea-fe520229dacd",
   "metadata": {
    "tags": []
   },
   "outputs": [],
   "source": [
    "# Loading dataset\n",
    "from vectorrvnn.utils import *\n",
    "from vectorrvnn.data import *\n",
    "from vectorrvnn.utils import *\n",
    "from vectorrvnn.baselines import *\n",
    "from vectorrvnn.trainutils import *\n",
    "from vectorrvnn.interfaces import *\n",
    "from more_itertools import *\n",
    "import svgpathtools as svg\n",
    "import matplotlib.pyplot as plt\n",
    "from tqdm import tqdm\n",
    "import random\n",
    "\n",
    "DATA_DIR = '../data/PublicDomainVectors'\n",
    "\n",
    "svgFiles = [f for f in allfiles(DATA_DIR) if f.endswith('svg')][:1000]\n",
    "dataset  = [SVGData(_) for _ in svgFiles]\n",
    "# Filter out graphics with too many paths. \n",
    "dataset = [_ for _ in dataset if _.nPaths < 40] "
   ]
  },
  {
   "cell_type": "code",
   "execution_count": null,
   "id": "4296f844-d231-42d1-bcfc-4c6779453abf",
   "metadata": {},
   "outputs": [],
   "source": [
    "# Visualize some groups\n",
    "print(len(dataset))\n",
    "sample = dataset[:10]\n",
    "for _ in sample :\n",
    "    plt.imshow(rasterize(_.doc, 200, 200))\n",
    "    plt.show()\n",
    "    print(_.svgFile)\n",
    "    groupNodes = nonLeaves(_)\n",
    "    groupNodes.remove(findRoot(_))\n",
    "    pathSets = [_.nodes[n]['pathSet'] for n in groupNodes]\n",
    "    nPs = len(pathSets)\n",
    "    fig, axes = plt.subplots(1, nPs)\n",
    "    psSample = random.sample(pathSets, k=nPs)\n",
    "    print(nPs)\n",
    "    for ps, ax in zip(psSample, axes) : \n",
    "        ax.imshow(rasterize(subsetSvg(_.doc, ps), 200, 200))\n",
    "    plt.show()\n"
   ]
  },
  {
   "cell_type": "markdown",
   "id": "d5716a47-c56e-4d07-afd5-db033e5c050e",
   "metadata": {},
   "source": [
    "## What are we measuring?\n",
    "\n",
    "I compare three methods for graphic organization using this dataset. \n",
    "\n",
    "1. Ours\n",
    "2. Fisher et. al.\n",
    "3. Suggero\n",
    "\n",
    "For each graphic in the dataset, I use one of the three methods to obtain a complete hierarchical organization, $T$. Then, for each group $G$ in the graphic, I find the node in the hierarchy that maximally overlaps with it. This score is used to rank the three methods. \n",
    "\n",
    "$$score(G, T) = max_{n \\in V(T)} IoU(leaves(T, n), G)$$"
   ]
  },
  {
   "cell_type": "code",
   "execution_count": null,
   "id": "c04a21ea-a6b3-4e93-8438-8d6054eb4d7d",
   "metadata": {},
   "outputs": [],
   "source": [
    "# Load our model\n",
    "opts = Options().parse(testing=[\n",
    "    '--backbone', 'resnet50',\n",
    "    '--checkpoints_dir', '../results',\n",
    "    '--dataroot', '../data/All',\n",
    "    '--embedding_size', '64',\n",
    "    '--hidden_size', '128', '128', '128',\n",
    "    '--load_ckpt', 'aug-21-cropnet_expt-1/training_end.pth',\n",
    "    '--loss', 'cosineSimilarity',\n",
    "    '--modelcls', 'CropNet',\n",
    "    '--name', 'test',\n",
    "    '--sim_criteria', 'negativeCosineSimilarity',\n",
    "    '--device', 'cuda:0',\n",
    "    '--phase', 'test',\n",
    "    '--temperature', '0.1',\n",
    "])\n",
    "\n",
    "model = buildModel(opts)"
   ]
  },
  {
   "cell_type": "code",
   "execution_count": null,
   "id": "3a28db47-4c75-4d15-a42b-67039cd8d538",
   "metadata": {},
   "outputs": [],
   "source": [
    "from collections import defaultdict\n",
    "\n",
    "results = defaultdict(dict)\n",
    "\n",
    "def iou (a, b) : \n",
    "    return len(set(a).intersection(set(b))) / len(set(a).union(set(b)))\n",
    "\n",
    "def logResult (T, method, methodName) : \n",
    "    global results\n",
    "    T_ = method(T)\n",
    "    gNodes = nonLeaves(T)\n",
    "    gNodes.remove(findRoot(T))\n",
    "    lens, area, scores = [], [], []\n",
    "    for n in gNodes : \n",
    "        ps = T.nodes[n]['pathSet']\n",
    "        maxIoU = max([iou(ps, T_.nodes[_]['pathSet']) for _ in T_.nodes])\n",
    "        paths = cachedPaths(T.doc)\n",
    "        bboxArea = union([pathBBox(p.path) for p in paths]).area() / getDocBBox(T.doc).area()\n",
    "        lens.append(len(ps))\n",
    "        area.append(bboxArea)\n",
    "        scores.append(maxIoU)\n",
    "    results[T][methodName] = dict(lens=lens, area=area, scores=scores, tree=T_)\n",
    "\n",
    "ours   = model.greedyTree\n",
    "fisher = lambda t : autogroup(t.doc)\n",
    "sug    = lambda t : suggero(t.doc)"
   ]
  },
  {
   "cell_type": "code",
   "execution_count": null,
   "id": "d7f3a52e-6fc2-46db-9f75-baff9156fcd3",
   "metadata": {},
   "outputs": [],
   "source": [
    "with open('results.pkl', 'rb') as fd :\n",
    "    results = pickle.load(fd)\n",
    "\n",
    "# I used the code below precompute and save the results as \n",
    "# this step takes a long time. \n",
    "for k in tqdm(results.keys()) : \n",
    "    logResult(k, ours, 'Ours')\n",
    "#     logResult(dataPt, fisher, 'Fisher et. al.')\n",
    "#     logResult(dataPt, sug, 'Suggero')\n",
    "\n",
    "# with open('results.pkl', 'wb') as fd : \n",
    "#     pickle.dump(results, fd)"
   ]
  },
  {
   "cell_type": "markdown",
   "id": "c10ae7e9-0b79-4d69-9e1e-40baa467803d",
   "metadata": {},
   "source": [
    "## Average MaxIoU\n",
    "\n",
    "Over 1000 groups are evaluated in this section"
   ]
  },
  {
   "cell_type": "code",
   "execution_count": null,
   "id": "22b4548e-64f9-4da4-895f-7a5337734f6d",
   "metadata": {
    "tags": []
   },
   "outputs": [],
   "source": [
    "ourScores, fisherScores, suggeroScores = [], [], []\n",
    "ourLens  , fisherLens  , suggeroLens   = [], [], []\n",
    "ourAreas , fisherAreas , suggeroAreas  = [], [], [] \n",
    "\n",
    "for k in results.keys() : \n",
    "    if 'Ours' in results[k] : \n",
    "        ourScores.extend(results[k]['Ours']['scores'])\n",
    "        ourLens.extend(results[k]['Ours']['lens'])\n",
    "        ourAreas.extend(results[k]['Ours']['area'])\n",
    "    if 'Fisher et. al.' in results[k] : \n",
    "        fisherScores.extend(results[k]['Fisher et. al.']['scores'])\n",
    "        fisherLens.extend(results[k]['Fisher et. al.']['lens'])\n",
    "        fisherAreas.extend(results[k]['Fisher et. al.']['area'])\n",
    "    if 'Suggero' in results[k] : \n",
    "        suggeroScores.extend(results[k]['Suggero']['scores'])\n",
    "        suggeroLens.extend(results[k]['Suggero']['lens'])\n",
    "        suggeroAreas.extend(results[k]['Suggero']['area'])\n",
    "\n",
    "print('Our\\t average MaxIoU: ', '{:.3}'.format(np.mean(ourScores)))\n",
    "print('Fisher\\t average MaxIoU: ', '{:.3}'.format(np.mean(fisherScores)))\n",
    "print('Suggero\\t average MaxIoU: ', '{:.3}'.format(np.mean(suggeroScores)))"
   ]
  },
  {
   "cell_type": "markdown",
   "id": "dabbb981-80ef-482d-af61-30aec28173bb",
   "metadata": {},
   "source": [
    "## Distribution of MaxIoU with number of paths in group\n",
    "\n",
    "Again, our advantage seems to come from doing well with the smaller groups of which there is a large number in this dataset. That is why we are winning here."
   ]
  },
  {
   "cell_type": "code",
   "execution_count": null,
   "id": "62dc0e4b-0482-4a7d-9438-8100b619938b",
   "metadata": {},
   "outputs": [],
   "source": [
    "ourLens_ = np.log2(ourLens)\n",
    "fisherLens_ = np.log2(fisherLens)\n",
    "suggeroLens_ = np.log2(suggeroLens)\n",
    "\n",
    "def printScoresInLenRange(lens, scores, methodName, lo, hi) : \n",
    "    scores_ = [s for s, l in zip(scores, lens) if lo <= l <= hi]\n",
    "    print(f'{methodName}\\t', ':', \n",
    "          '{:.4}'.format(np.mean(scores_)), '+/-', \n",
    "          '{:.3}'.format(np.std(scores_)), \n",
    "          f'(bucket size = {len(scores_)})')\n",
    "\n",
    "lenIntervals = [1, 2, 3, 5, 6]\n",
    "\n",
    "for lo, hi in zip(lenIntervals[:-1], lenIntervals[1:]) : \n",
    "    print(\"__________________________________________________________\")\n",
    "    print('Average MaxIoU for groups with #paths in range', 1 << lo, '-', 1 << hi)\n",
    "    printScoresInLenRange(ourLens_, ourScores, 'Our', lo, hi)\n",
    "    printScoresInLenRange(suggeroLens_, suggeroScores, 'Suggero', lo, hi)\n",
    "    printScoresInLenRange(fisherLens_, fisherScores, 'Fisher', lo, hi)\n",
    "\n",
    "print(\"__________________________________________________________\")"
   ]
  },
  {
   "cell_type": "code",
   "execution_count": null,
   "id": "6459efc4-77ef-4a5a-8ca9-d15ada052065",
   "metadata": {},
   "outputs": [],
   "source": [
    "# Visualize all groups with paths in ranges 6 - 7 along with the predictions\n",
    "\n",
    "def findBestMatchPathSet (ps, t) : \n",
    "    tpss = [t.nodes[_]['pathSet'] for _ in t.nodes]\n",
    "    ious = [iou(ps, ps_) for ps_ in tpss]\n",
    "    return tpss[argmax(ious)], max(ious)\n",
    "\n",
    "    \n",
    "lo = 1\n",
    "hi = 3\n",
    "\n",
    "i = 0\n",
    "for T in results.keys() :\n",
    "    root = findRoot(T)\n",
    "    pathsets = [T.nodes[n]['pathSet'] for n in T.nodes if n != root]\n",
    "    for ps in pathsets : \n",
    "        if (1 << lo) <= len(ps) <= (1 << hi) : \n",
    "            tour = results[T]['Ours']['tree']\n",
    "            tfisher = results[T]['Fisher et. al.']['tree']\n",
    "            tsug = results[T]['Suggero']['tree']\n",
    "            tour.doc = tfisher.doc = tsug.doc = T.doc\n",
    "            ops, oiou = findBestMatchPathSet(ps, tour)\n",
    "            fps, fiou = findBestMatchPathSet(ps, tfisher)\n",
    "            sps, siou = findBestMatchPathSet(ps, tsug)\n",
    "            if oiou < fiou or oiou < siou : \n",
    "                i += 1\n",
    "                print(\"___________________________________________________\")\n",
    "                print(T.svgFile)\n",
    "                print(ps)\n",
    "                plt.imshow(rasterize(T.doc, 200, 200))\n",
    "                plt.show()\n",
    "                plt.imshow(rasterize(subsetSvg(T.doc, ps), 200, 200))\n",
    "                plt.show()\n",
    "                print('Ours')\n",
    "                print('MaxIoU:', oiou)\n",
    "                plt.imshow(rasterize(subsetSvg(T.doc, ops), 200, 200))\n",
    "                plt.show()\n",
    "                treeImageFromGraph(tour)\n",
    "                plt.show()\n",
    "                print('Fisher')\n",
    "                print('MaxIoU:', fiou)\n",
    "                plt.imshow(rasterize(subsetSvg(T.doc, fps), 200, 200))\n",
    "                plt.show()\n",
    "                treeImageFromGraph(tfisher)\n",
    "                plt.show()\n",
    "                print('Suggero')\n",
    "                print('MaxIoU:', siou)\n",
    "                plt.imshow(rasterize(subsetSvg(T.doc, sps), 200, 200))\n",
    "                plt.show()\n",
    "                treeImageFromGraph(tsug)\n",
    "                plt.show()\n",
    "                if i > 100 : \n",
    "                    break"
   ]
  },
  {
   "cell_type": "markdown",
   "id": "73f98326-4c4a-4aed-9c95-647fcac5fdba",
   "metadata": {},
   "source": [
    "###### "
   ]
  }
 ],
 "metadata": {
  "kernelspec": {
   "display_name": "Python 3",
   "language": "python",
   "name": "python3"
  },
  "language_info": {
   "codemirror_mode": {
    "name": "ipython",
    "version": 3
   },
   "file_extension": ".py",
   "mimetype": "text/x-python",
   "name": "python",
   "nbconvert_exporter": "python",
   "pygments_lexer": "ipython3",
   "version": "3.6.9"
  }
 },
 "nbformat": 4,
 "nbformat_minor": 5
}
