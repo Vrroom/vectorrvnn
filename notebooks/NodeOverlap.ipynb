{
 "cells": [
  {
   "cell_type": "markdown",
   "id": "54f263e2-a457-485f-a239-0d7701b16203",
   "metadata": {},
   "source": [
    "# Node Overlap\n",
    "\n",
    "I gathered partially organized publicly available graphics. Around 60% of these graphics were created or opened on inkscape. It is likely that the groups within these graphics were created to make editing easier."
   ]
  },
  {
   "cell_type": "code",
   "execution_count": null,
   "id": "e711060d-23d8-4b09-adea-fe520229dacd",
   "metadata": {
    "tags": []
   },
   "outputs": [],
   "source": [
    "# Loading dataset\n",
    "from vectorrvnn.utils import *\n",
    "from vectorrvnn.data import *\n",
    "from vectorrvnn.utils import *\n",
    "from vectorrvnn.baselines import *\n",
    "from vectorrvnn.trainutils import *\n",
    "from vectorrvnn.interfaces import *\n",
    "from more_itertools import *\n",
    "import svgpathtools as svg\n",
    "import matplotlib.pyplot as plt\n",
    "from tqdm import tqdm\n",
    "import random\n",
    "\n",
    "DATA_DIR = '../data/PublicDomainVectors'\n",
    "\n",
    "svgFiles = [f for f in allfiles(DATA_DIR) if f.endswith('svg')]\n",
    "docs = [svg.Document(s) for s in svgFiles]\n",
    "trees = [getTreeStructureFromSVG(s) for s in svgFiles]\n",
    "dataset = list(zip(svgFiles, docs, trees))\n",
    "# Filter out graphics with too many paths. \n",
    "dataset = [(s, d, t) for s, d, t in dataset if len(leaves(t)) < 100] "
   ]
  },
  {
   "cell_type": "code",
   "execution_count": null,
   "id": "4296f844-d231-42d1-bcfc-4c6779453abf",
   "metadata": {},
   "outputs": [],
   "source": [
    "# Visualize some groups\n",
    "sample = random.sample(dataset, k=100)\n",
    "for svgFile, doc, tree in sample :\n",
    "    plt.imshow(rasterize(doc, 200, 200))\n",
    "    plt.show()\n",
    "    r = findRoot(tree)\n",
    "    groupNodes = [n for n in tree.nodes if tree.out_degree(n) > 0 and not n == r]\n",
    "    pathSets = [tree.nodes[n]['pathSet'] for n in groupNodes]\n",
    "    nPs = min(5, len(pathSets))\n",
    "    fig, axes = plt.subplots(1, nPs)\n",
    "    psSample = random.sample(pathSets, k=nPs)\n",
    "    print(svgFile)\n",
    "    for ps, ax in zip(psSample, axes) : \n",
    "        print(ps)\n",
    "        ax.imshow(rasterize(subsetSvg(doc, ps), 200, 200))\n",
    "    plt.show()\n"
   ]
  },
  {
   "cell_type": "markdown",
   "id": "d5716a47-c56e-4d07-afd5-db033e5c050e",
   "metadata": {},
   "source": [
    "## What are we measuring?\n",
    "\n",
    "I compare three methods for graphic organization using this dataset. \n",
    "\n",
    "1. Ours\n",
    "2. Fisher et. al.\n",
    "3. Suggero\n",
    "\n",
    "For each graphic in the dataset, I use one of the three methods to obtain a complete hierarchical organization, $T$. Then, for each group $G$ in the graphic, I find the node in the hierarchy that maximally overlaps with it. This score is used to rank the three methods. \n",
    "\n",
    "$$score(G, T) = max_{n \\in V(T)} IoU(leaves(T, n), G)$$"
   ]
  },
  {
   "cell_type": "code",
   "execution_count": null,
   "id": "c04a21ea-a6b3-4e93-8438-8d6054eb4d7d",
   "metadata": {},
   "outputs": [],
   "source": [
    "# Load our model\n",
    "opts = Options().parse(testing=[\n",
    "    '--batch_size', '32',\n",
    "    '--checkpoints_dir', '../results',\n",
    "    '--dataroot', '../data/All',\n",
    "    '--embedding_size', '32', \n",
    "    '--load_ckpt', 'onebranch_oneof/best_0-796-07-13-2021-10-20-04.pth',                          \n",
    "    '--modelcls', 'OneBranch',\n",
    "    '--name', 'onebranch_oneof',\n",
    "    '--samplercls', 'DiscriminativeSampler',\n",
    "    '--phase', 'test',\n",
    "])\n",
    "\n",
    "model = buildModel(opts)"
   ]
  },
  {
   "cell_type": "code",
   "execution_count": null,
   "id": "3a28db47-4c75-4d15-a42b-67039cd8d538",
   "metadata": {},
   "outputs": [],
   "source": [
    "from collections import defaultdict\n",
    "\n",
    "results = defaultdict(dict)\n",
    "\n",
    "def iou (a, b) : \n",
    "    return len(set(a).intersection(set(b))) / len(set(a).union(set(b)))\n",
    "\n",
    "def logResult (dataPt, method, methodName) : \n",
    "    global results\n",
    "    _, doc, T = dataPt\n",
    "    T_ = method(dataPt)\n",
    "    root = findRoot(T)\n",
    "    gNodes = [n for n in T.nodes if T.out_degree(n) > 0 and not n == root]\n",
    "    lens, area, scores = [], [], []\n",
    "    for n in gNodes : \n",
    "        ps = T.nodes[n]['pathSet']\n",
    "        maxIoU = max([iou(ps, T_.nodes[_]['pathSet']) for _ in T_.nodes])\n",
    "        paths = cachedPaths(doc)\n",
    "        bboxArea = union([pathBBox(p.path) for p in paths]).area() / getDocBBox(doc).area()\n",
    "        lens.append(len(ps))\n",
    "        area.append(bboxArea)\n",
    "        scores.append(maxIoU)\n",
    "    results[dataPt][methodName] = dict(lens=lens, area=area, scores=scores)\n",
    "\n",
    "ours   = lambda dataPt : model.greedyTree(SVGData(dataPt[0], tree=dataPt[2]))\n",
    "fisher = lambda dataPt : autogroup(dataPt[1])\n",
    "sug    = lambda dataPt : suggero(dataPt[1])"
   ]
  },
  {
   "cell_type": "code",
   "execution_count": null,
   "id": "d7f3a52e-6fc2-46db-9f75-baff9156fcd3",
   "metadata": {},
   "outputs": [],
   "source": [
    "# I used the code below precompute and save the results as \n",
    "# this step takes a long time. \n",
    "# for dataPt in tqdm(take(200, dataset)) : \n",
    "#     try :\n",
    "#         logResult(dataPt, ours, 'Ours')\n",
    "#         logResult(dataPt, fisher, 'Fisher et. al.')\n",
    "#         logResult(dataPt, sug, 'Suggero')\n",
    "#     except Exception as e : \n",
    "#         print(e)\n",
    "with open('results.pkl', 'rb') as fd :\n",
    "    results = pickle.load(fd)"
   ]
  },
  {
   "cell_type": "markdown",
   "id": "c10ae7e9-0b79-4d69-9e1e-40baa467803d",
   "metadata": {},
   "source": [
    "## Average MaxIoU\n",
    "\n",
    "Over 1000 groups are evaluated in this section"
   ]
  },
  {
   "cell_type": "code",
   "execution_count": null,
   "id": "22b4548e-64f9-4da4-895f-7a5337734f6d",
   "metadata": {
    "tags": []
   },
   "outputs": [],
   "source": [
    "ourScores, fisherScores, suggeroScores = [], [], []\n",
    "ourLens  , fisherLens  , suggeroLens   = [], [], []\n",
    "ourAreas , fisherAreas , suggeroAreas  = [], [], [] \n",
    "\n",
    "for k in results.keys() : \n",
    "    if 'Ours' in results[k] : \n",
    "        ourScores.extend(results[k]['Ours']['scores'])\n",
    "        ourLens.extend(results[k]['Ours']['lens'])\n",
    "        ourAreas.extend(results[k]['Ours']['area'])\n",
    "    if 'Fisher et. al.' in results[k] : \n",
    "        fisherScores.extend(results[k]['Fisher et. al.']['scores'])\n",
    "        fisherLens.extend(results[k]['Fisher et. al.']['lens'])\n",
    "        fisherAreas.extend(results[k]['Fisher et. al.']['area'])\n",
    "    if 'Suggero' in results[k] : \n",
    "        suggeroScores.extend(results[k]['Suggero']['scores'])\n",
    "        suggeroLens.extend(results[k]['Suggero']['lens'])\n",
    "        suggeroAreas.extend(results[k]['Suggero']['area'])\n",
    "\n",
    "print('Our\\t average MaxIoU: ', '{:.3}'.format(np.mean(ourScores)))\n",
    "print('Fisher\\t average MaxIoU: ', '{:.3}'.format(np.mean(fisherScores)))\n",
    "print('Suggero\\t average MaxIoU: ', '{:.3}'.format(np.mean(suggeroScores)))"
   ]
  },
  {
   "cell_type": "markdown",
   "id": "d0181f4d-70a2-4152-8836-b17981b6081c",
   "metadata": {},
   "source": [
    "## Distribution of MaxIoU with size of group\n",
    "\n",
    "Our only advantage over Fisher et. al. comes in the category of groups having very small area. In this category, Suggero is quite good actually. In all other categories, we are on par or worse than Fisher et. al.\n",
    "\n",
    "The uncertainty in these estimates, i.e. the number after +/- is 1 standard deviation."
   ]
  },
  {
   "cell_type": "code",
   "execution_count": null,
   "id": "91bb3d2b-8bf3-4ac3-af92-0d79c6910297",
   "metadata": {},
   "outputs": [],
   "source": [
    "def printScoresInAreaRange(areas, scores, methodName, lo, hi) : \n",
    "    scores_ = [s for s, a in zip(scores, areas) if lo <= a <= hi]\n",
    "    print(f'{methodName}\\t', ':', '{:.4}'.format(np.mean(scores_)), '+/-', '{:.3}'.format(np.std(scores_)))\n",
    "\n",
    "areaIntervals = [0.0, 0.2, 0.4, 0.6, 1.0]\n",
    "\n",
    "for lo, hi in zip(areaIntervals[:-1], areaIntervals[1:]) : \n",
    "    print(\"__________________________________________________________\")\n",
    "    print('Average MaxIoU for groups with area in range', lo, '-', hi)\n",
    "    printScoresInAreaRange(ourAreas, ourScores, 'Our', lo, hi)\n",
    "    printScoresInAreaRange(suggeroAreas, suggeroScores, 'Suggero', lo, hi)\n",
    "    printScoresInAreaRange(fisherAreas, fisherScores, 'Fisher', lo, hi)\n",
    "\n",
    "print(\"__________________________________________________________\")\n"
   ]
  },
  {
   "cell_type": "markdown",
   "id": "dabbb981-80ef-482d-af61-30aec28173bb",
   "metadata": {},
   "source": [
    "## Distribution of MaxIoU with number of paths in group\n",
    "\n",
    "Again, our advantage seems to come from doing well with the smaller groups of which there is a large number in this dataset. That is why we are winning here."
   ]
  },
  {
   "cell_type": "code",
   "execution_count": null,
   "id": "62dc0e4b-0482-4a7d-9438-8100b619938b",
   "metadata": {},
   "outputs": [],
   "source": [
    "ourLens_ = np.log2(ourLens)\n",
    "fisherLens_ = np.log2(fisherLens)\n",
    "suggeroLens_ = np.log2(suggeroLens)\n",
    "\n",
    "def printScoresInLenRange(lens, scores, methodName, lo, hi) : \n",
    "    scores_ = [s for s, l in zip(scores, lens) if lo <= l <= hi]\n",
    "    print(f'{methodName}\\t', ':', \n",
    "          '{:.4}'.format(np.mean(scores_)), '+/-', \n",
    "          '{:.3}'.format(np.std(scores_)), \n",
    "          f'(bucket size = {len(scores_)})')\n",
    "\n",
    "lenIntervals = [1, 2, 3, 5, 6, 7]\n",
    "\n",
    "for lo, hi in zip(lenIntervals[:-1], lenIntervals[1:]) : \n",
    "    print(\"__________________________________________________________\")\n",
    "    print('Average MaxIoU for groups with #paths in range', 1 << lo, '-', 1 << hi)\n",
    "    printScoresInLenRange(ourLens_, ourScores, 'Our', lo, hi)\n",
    "    printScoresInLenRange(suggeroLens_, suggeroScores, 'Suggero', lo, hi)\n",
    "    printScoresInLenRange(fisherLens_, fisherScores, 'Fisher', lo, hi)\n",
    "\n",
    "print(\"__________________________________________________________\")"
   ]
  },
  {
   "cell_type": "code",
   "execution_count": null,
   "id": "6459efc4-77ef-4a5a-8ca9-d15ada052065",
   "metadata": {},
   "outputs": [],
   "source": [
    "# Visualize all groups with paths in ranges 2 - 4 along with the predictions\n",
    "lo = 2\n",
    "hi = 4\n",
    "methodName = 'Ours'\n",
    "for pt in results.keys() :\n",
    "    svgFile, doc, T = pt\n",
    "    results[pt]['method']"
   ]
  },
  {
   "cell_type": "code",
   "execution_count": null,
   "id": "6c3a7e92-a000-4e49-a4bc-c6f8a75dae49",
   "metadata": {},
   "outputs": [],
   "source": []
  }
 ],
 "metadata": {
  "kernelspec": {
   "display_name": "Python 3",
   "language": "python",
   "name": "python3"
  },
  "language_info": {
   "codemirror_mode": {
    "name": "ipython",
    "version": 3
   },
   "file_extension": ".py",
   "mimetype": "text/x-python",
   "name": "python",
   "nbconvert_exporter": "python",
   "pygments_lexer": "ipython3",
   "version": "3.6.9"
  }
 },
 "nbformat": 4,
 "nbformat_minor": 5
}
