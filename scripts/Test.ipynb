{
 "cells": [
  {
   "cell_type": "code",
   "execution_count": 1,
   "metadata": {},
   "outputs": [
    {
     "name": "stdout",
     "output_type": "stream",
     "text": [
      "FourierColorBBoxTransformer(\n",
      "  (embed): Linear(in_features=32, out_features=128, bias=True)\n",
      "  (net): Transformer(\n",
      "    (layers): ModuleList(\n",
      "      (0): EncoderLayer(\n",
      "        (self_attn): MultiHeadedAttention(\n",
      "          (linears): ModuleList(\n",
      "            (0): Linear(in_features=128, out_features=128, bias=True)\n",
      "            (1): Linear(in_features=128, out_features=128, bias=True)\n",
      "            (2): Linear(in_features=128, out_features=128, bias=True)\n",
      "            (3): Linear(in_features=128, out_features=128, bias=True)\n",
      "          )\n",
      "          (dropout): Dropout(p=0.1, inplace=False)\n",
      "        )\n",
      "        (feed_forward): PositionwiseFeedForward(\n",
      "          (w_1): Linear(in_features=128, out_features=512, bias=True)\n",
      "          (w_2): Linear(in_features=512, out_features=128, bias=True)\n",
      "          (dropout): Dropout(p=0.1, inplace=False)\n",
      "        )\n",
      "        (sublayer): ModuleList(\n",
      "          (0): SublayerConnection(\n",
      "            (norm): LayerNorm()\n",
      "            (dropout): Dropout(p=0.1, inplace=False)\n",
      "          )\n",
      "          (1): SublayerConnection(\n",
      "            (norm): LayerNorm()\n",
      "            (dropout): Dropout(p=0.1, inplace=False)\n",
      "          )\n",
      "        )\n",
      "      )\n",
      "      (1): EncoderLayer(\n",
      "        (self_attn): MultiHeadedAttention(\n",
      "          (linears): ModuleList(\n",
      "            (0): Linear(in_features=128, out_features=128, bias=True)\n",
      "            (1): Linear(in_features=128, out_features=128, bias=True)\n",
      "            (2): Linear(in_features=128, out_features=128, bias=True)\n",
      "            (3): Linear(in_features=128, out_features=128, bias=True)\n",
      "          )\n",
      "          (dropout): Dropout(p=0.1, inplace=False)\n",
      "        )\n",
      "        (feed_forward): PositionwiseFeedForward(\n",
      "          (w_1): Linear(in_features=128, out_features=512, bias=True)\n",
      "          (w_2): Linear(in_features=512, out_features=128, bias=True)\n",
      "          (dropout): Dropout(p=0.1, inplace=False)\n",
      "        )\n",
      "        (sublayer): ModuleList(\n",
      "          (0): SublayerConnection(\n",
      "            (norm): LayerNorm()\n",
      "            (dropout): Dropout(p=0.1, inplace=False)\n",
      "          )\n",
      "          (1): SublayerConnection(\n",
      "            (norm): LayerNorm()\n",
      "            (dropout): Dropout(p=0.1, inplace=False)\n",
      "          )\n",
      "        )\n",
      "      )\n",
      "      (2): EncoderLayer(\n",
      "        (self_attn): MultiHeadedAttention(\n",
      "          (linears): ModuleList(\n",
      "            (0): Linear(in_features=128, out_features=128, bias=True)\n",
      "            (1): Linear(in_features=128, out_features=128, bias=True)\n",
      "            (2): Linear(in_features=128, out_features=128, bias=True)\n",
      "            (3): Linear(in_features=128, out_features=128, bias=True)\n",
      "          )\n",
      "          (dropout): Dropout(p=0.1, inplace=False)\n",
      "        )\n",
      "        (feed_forward): PositionwiseFeedForward(\n",
      "          (w_1): Linear(in_features=128, out_features=512, bias=True)\n",
      "          (w_2): Linear(in_features=512, out_features=128, bias=True)\n",
      "          (dropout): Dropout(p=0.1, inplace=False)\n",
      "        )\n",
      "        (sublayer): ModuleList(\n",
      "          (0): SublayerConnection(\n",
      "            (norm): LayerNorm()\n",
      "            (dropout): Dropout(p=0.1, inplace=False)\n",
      "          )\n",
      "          (1): SublayerConnection(\n",
      "            (norm): LayerNorm()\n",
      "            (dropout): Dropout(p=0.1, inplace=False)\n",
      "          )\n",
      "        )\n",
      "      )\n",
      "      (3): EncoderLayer(\n",
      "        (self_attn): MultiHeadedAttention(\n",
      "          (linears): ModuleList(\n",
      "            (0): Linear(in_features=128, out_features=128, bias=True)\n",
      "            (1): Linear(in_features=128, out_features=128, bias=True)\n",
      "            (2): Linear(in_features=128, out_features=128, bias=True)\n",
      "            (3): Linear(in_features=128, out_features=128, bias=True)\n",
      "          )\n",
      "          (dropout): Dropout(p=0.1, inplace=False)\n",
      "        )\n",
      "        (feed_forward): PositionwiseFeedForward(\n",
      "          (w_1): Linear(in_features=128, out_features=512, bias=True)\n",
      "          (w_2): Linear(in_features=512, out_features=128, bias=True)\n",
      "          (dropout): Dropout(p=0.1, inplace=False)\n",
      "        )\n",
      "        (sublayer): ModuleList(\n",
      "          (0): SublayerConnection(\n",
      "            (norm): LayerNorm()\n",
      "            (dropout): Dropout(p=0.1, inplace=False)\n",
      "          )\n",
      "          (1): SublayerConnection(\n",
      "            (norm): LayerNorm()\n",
      "            (dropout): Dropout(p=0.1, inplace=False)\n",
      "          )\n",
      "        )\n",
      "      )\n",
      "    )\n",
      "    (norm): LayerNorm()\n",
      "  )\n",
      ")\n"
     ]
    }
   ],
   "source": [
    "from train import *\n",
    "import pandas as pd\n",
    "import numpy as np\n",
    "from vectorrvnn.utils import *\n",
    "from collections import defaultdict\n",
    "import pickle\n",
    "import os\n",
    "import os.path as osp\n",
    "\n",
    "def loadModelFromExptName (checkpoints_dir, name) : \n",
    "    \"\"\" Load the model at the end of training \"\"\"\n",
    "    with open(osp.join(checkpoints_dir, name, 'opts.pkl'), 'rb') as fp : \n",
    "        opts = pickle.load(fp) \n",
    "    ckptpath = osp.join(checkpoints_dir, name, 'training_end.pth')\n",
    "    opts['modelcls'] = NN_CLASSES[opts['modelcls']]\n",
    "    Option = namedtuple('Option', [k for k in opts]) \n",
    "    opts = Option(*[v for _, v in opts.items()])\n",
    "    ModelCls = opts.modelcls\n",
    "    model = ModelCls(opts).float()\n",
    "    state_dict = torch.load(ckptpath, map_location=opts.device)\n",
    "    model.load_state_dict(state_dict['model'])\n",
    "    model.to(opts.device)\n",
    "    model.eval()\n",
    "    print(model)\n",
    "    return model, opts\n",
    "\n",
    "model, opts = loadModelFromExptName('../results', 'fourier_run')\n",
    "# model2, opts = loadModelFromExptName('../results', 'allrun1')\n",
    "# model3, opts = loadModelFromExptName('../results', 'run1')"
   ]
  },
  {
   "cell_type": "code",
   "execution_count": 2,
   "metadata": {},
   "outputs": [
    {
     "name": "stderr",
     "output_type": "stream",
     "text": [
      "/home/labuser/.local/lib/python3.6/site-packages/svgpathtools-1.4.1-py3.6.egg/svgpathtools/path.py:3260: UserWarning:\n",
      "\n",
      "Replacing degenerate (zero radius) Arc with a Line: Arc(start=(662.94+341.62j), radius=(0.62897+0j), rotation=0.0, large_arc=1.0, sweep=1.0, end=(661.6800000000001+341.62j)) --> Line(start=(662.94+341.62j), end=(661.6800000000001+341.62j))\n",
      "\n",
      "/home/labuser/.local/lib/python3.6/site-packages/svgpathtools-1.4.1-py3.6.egg/svgpathtools/path.py:3260: UserWarning:\n",
      "\n",
      "Replacing degenerate (zero radius) Arc with a Line: Arc(start=(661.6800000000001+341.62j), radius=(0.62897+0j), rotation=0.0, large_arc=1.0, sweep=1.0, end=(662.94+341.62j)) --> Line(start=(661.6800000000001+341.62j), end=(662.94+341.62j))\n",
      "\n"
     ]
    }
   ],
   "source": [
    "publicDomain = '../data/PublicDomainVectors'\n",
    "svgFiles = [f for f in allfiles(publicDomain) if f.endswith('svg')][:500]\n",
    "publicdata  = [SVGData(_) for _ in svgFiles]\n",
    "# Filter out graphics with too many paths. \n",
    "publicdata = [_ for _ in publicdata if _.nPaths < opts.max_len]"
   ]
  },
  {
   "cell_type": "code",
   "execution_count": 7,
   "metadata": {},
   "outputs": [
    {
     "name": "stdout",
     "output_type": "stream",
     "text": [
      "My Annotations\n"
     ]
    },
    {
     "data": {
      "image/png": "[encoded data removed]",
      "text/plain": [
       "<Figure size 1200x800 with 1 Axes>"
      ]
     },
     "metadata": {},
     "output_type": "display_data"
    }
   ],
   "source": [
    "i = 8\n",
    "print('My Annotations')\n",
    "treeImageFromGraph(model.greedyTree(publicdata[i]))\n",
    "plt.show()\n",
    "# treeImageFromGraph(model1.containmentGuidedTree(publicdata[i]))\n",
    "# plt.show()\n",
    "# print('All Emoji Annotations') \n",
    "# treeImageFromGraph(model2.greedyTree(publicdata[i]))\n",
    "# plt.show()\n",
    "# treeImageFromGraph(model2.containmentGuidedTree(publicdata[i]))\n",
    "# plt.show()\n",
    "# print('Other Dataset') \n",
    "# treeImageFromGraph(model3.greedyTree(publicdata[i]))\n",
    "# plt.show()\n",
    "# treeImageFromGraph(model3.containmentGuidedTree(publicdata[i]))\n",
    "# plt.show()\n",
    "# treeImageFromGraph(autogroup(publicdata[i]))"
   ]
  },
  {
   "cell_type": "code",
   "execution_count": null,
   "metadata": {},
   "outputs": [],
   "source": []
  }
 ],
 "metadata": {
  "kernelspec": {
   "display_name": "Python 3",
   "language": "python",
   "name": "python3"
  },
  "language_info": {
   "codemirror_mode": {
    "name": "ipython",
    "version": 3
   },
   "file_extension": ".py",
   "mimetype": "text/x-python",
   "name": "python",
   "nbconvert_exporter": "python",
   "pygments_lexer": "ipython3",
   "version": "3.6.13"
  }
 },
 "nbformat": 4,
 "nbformat_minor": 4
}
